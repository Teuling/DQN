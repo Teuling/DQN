{
 "cells": [
  {
   "cell_type": "markdown",
   "metadata": {},
   "source": [
    "# Navigation\n",
    "\n",
    "---\n",
    "\n",
    "In this notebook, you will learn how to use the Unity ML-Agents environment for the first project of the [Deep Reinforcement Learning Nanodegree](https://www.udacity.com/course/deep-reinforcement-learning-nanodegree--nd893).\n",
    "\n",
    "### 1. Start the Environment\n",
    "\n",
    "We begin by importing some necessary packages.  If the code cell below returns an error, please revisit the project instructions to double-check that you have installed [Unity ML-Agents](https://github.com/Unity-Technologies/ml-agents/blob/master/docs/Installation.md) and [NumPy](http://www.numpy.org/)."
   ]
  },
  {
   "cell_type": "raw",
   "metadata": {
    "vscode": {
     "languageId": "raw"
    }
   },
   "source": [
    "from unityagents import UnityEnvironment\n",
    "import numpy as np"
   ]
  },
  {
   "cell_type": "markdown",
   "metadata": {},
   "source": [
    "Next, we will start the environment!  **_Before running the code cell below_**, change the `file_name` parameter to match the location of the Unity environment that you downloaded.\n",
    "\n",
    "- **Mac**: `\"path/to/Banana.app\"`\n",
    "- **Windows** (x86): `\"path/to/Banana_Windows_x86/Banana.exe\"`\n",
    "- **Windows** (x86_64): `\"path/to/Banana_Windows_x86_64/Banana.exe\"`\n",
    "- **Linux** (x86): `\"path/to/Banana_Linux/Banana.x86\"`\n",
    "- **Linux** (x86_64): `\"path/to/Banana_Linux/Banana.x86_64\"`\n",
    "- **Linux** (x86, headless): `\"path/to/Banana_Linux_NoVis/Banana.x86\"`\n",
    "- **Linux** (x86_64, headless): `\"path/to/Banana_Linux_NoVis/Banana.x86_64\"`\n",
    "\n",
    "For instance, if you are using a Mac, then you downloaded `Banana.app`.  If this file is in the same folder as the notebook, then the line below should appear as follows:\n",
    "```\n",
    "env = UnityEnvironment(file_name=\"Banana.app\")\n",
    "```"
   ]
  },
  {
   "cell_type": "raw",
   "metadata": {
    "vscode": {
     "languageId": "raw"
    }
   },
   "source": [
    "env = UnityEnvironment(file_name=r\"C:\\Users\\Sieme\\Documents\\_Learn\\udacity\\Value-based-methods\\p1_navigation\\Banana_Windows_x86_64\\Banana.exe\")"
   ]
  },
  {
   "cell_type": "markdown",
   "metadata": {},
   "source": [
    "Environments contain **_brains_** which are responsible for deciding the actions of their associated agents. Here we check for the first brain available, and set it as the default brain we will be controlling from Python."
   ]
  },
  {
   "cell_type": "raw",
   "metadata": {
    "vscode": {
     "languageId": "raw"
    }
   },
   "source": [
    "# get the default brain\n",
    "brain_name = env.brain_names[0]\n",
    "brain = env.brains[brain_name]\n",
    "print(\"Brain Name:\", brain_name)"
   ]
  },
  {
   "cell_type": "markdown",
   "metadata": {},
   "source": [
    "### 2. Examine the State and Action Spaces\n",
    "\n",
    "The simulation contains a single agent that navigates a large environment.  At each time step, it has four actions at its disposal:\n",
    "- `0` - walk forward \n",
    "- `1` - walk backward\n",
    "- `2` - turn left\n",
    "- `3` - turn right\n",
    "\n",
    "The state space has `37` dimensions and contains the agent's velocity, along with ray-based perception of objects around agent's forward direction.  A reward of `+1` is provided for collecting a yellow banana, and a reward of `-1` is provided for collecting a blue banana. \n",
    "\n",
    "Run the code cell below to print some information about the environment."
   ]
  },
  {
   "cell_type": "raw",
   "metadata": {
    "vscode": {
     "languageId": "raw"
    }
   },
   "source": [
    "# reset the environment\n",
    "env_info = env.reset(train_mode=True)[brain_name]\n",
    "print(f'env_info type {type(env_info)}')\n",
    "\n",
    "# number of agents in the environment\n",
    "print('Number of agents:', len(env_info.agents))\n",
    "\n",
    "# number of actions\n",
    "action_size = brain.vector_action_space_size\n",
    "print('Number of actions:', action_size)\n",
    "\n",
    "# examine the state space \n",
    "state = env_info.vector_observations[0]\n",
    "print('States look like:', state)\n",
    "print(f'State type {type(state)}')\n",
    "state_size = len(state)\n",
    "print('States have length:', state_size)\n",
    "\n",
    "decision_step = env.step(1.0)\n",
    "print(f'decision {type(decision_step)}')\n",
    "for key in decision_step.keys():\n",
    "    print(key)\n",
    "for value in decision_step.values():\n",
    "    print(value)\n",
    "\n",
    "next_state = decision_step[brain_name].vector_observations[0]\n",
    "print(next_state)"
   ]
  },
  {
   "cell_type": "markdown",
   "metadata": {},
   "source": [
    "### 3. Take Random Actions in the Environment\n",
    "\n",
    "In the next code cell, you will learn how to use the Python API to control the agent and receive feedback from the environment.\n",
    "\n",
    "Once this cell is executed, you will watch the agent's performance, if it selects an action (uniformly) at random with each time step.  A window should pop up that allows you to observe the agent, as it moves through the environment.  \n",
    "\n",
    "Of course, as part of the project, you'll have to change the code so that the agent is able to use its experience to gradually choose better actions when interacting with the environment!"
   ]
  },
  {
   "cell_type": "raw",
   "metadata": {
    "vscode": {
     "languageId": "raw"
    }
   },
   "source": [
    "env_info = env.reset(train_mode=False)[brain_name] # reset the environment\n",
    "state = env_info.vector_observations[0]            # get the current state\n",
    "score = 0                                          # initialize the score\n",
    "while True:\n",
    "    action = np.random.randint(action_size)        # select an action\n",
    "    env_info = env.step(action)[brain_name]        # send the action to the environment\n",
    "    next_state = env_info.vector_observations[0]   # get the next state\n",
    "    reward = env_info.rewards[0]                   # get the reward\n",
    "    done = env_info.local_done[0]                  # see if episode has finished\n",
    "    score += reward                                # update the score\n",
    "    state = next_state                             # roll over the state to next time step\n",
    "    if done:                                       # exit loop if episode finished\n",
    "        break\n",
    "    \n",
    "print(\"Score: {}\".format(score))"
   ]
  },
  {
   "cell_type": "markdown",
   "metadata": {},
   "source": [
    "When finished, you can close the environment."
   ]
  },
  {
   "cell_type": "raw",
   "metadata": {
    "vscode": {
     "languageId": "raw"
    }
   },
   "source": [
    "env.close()"
   ]
  },
  {
   "cell_type": "markdown",
   "metadata": {},
   "source": [
    "### 4. It's Your Turn!\n",
    "\n",
    "Now it's your turn to train your own agent to solve the environment!  When training the environment, set `train_mode=True`, so that the line for resetting the environment looks like the following:\n",
    "```python\n",
    "env_info = env.reset(train_mode=True)[brain_name]\n",
    "```"
   ]
  },
  {
   "cell_type": "code",
   "execution_count": 1,
   "metadata": {},
   "outputs": [
    {
     "name": "stderr",
     "output_type": "stream",
     "text": [
      "INFO:unityagents:\n",
      "'Academy' started successfully!\n",
      "Unity Academy name: Academy\n",
      "        Number of Brains: 1\n",
      "        Number of External Brains : 1\n",
      "        Lesson number : 0\n",
      "        Reset Parameters :\n",
      "\t\t\n",
      "Unity brain name: BananaBrain\n",
      "        Number of Visual Observations (per agent): 0\n",
      "        Vector Observation space type: continuous\n",
      "        Vector Observation space size (per agent): 37\n",
      "        Number of stacked Vector Observation: 1\n",
      "        Vector Action space type: discrete\n",
      "        Vector Action space size (per agent): 4\n",
      "        Vector Action descriptions: , , , \n"
     ]
    }
   ],
   "source": [
    "import torch\n",
    "import numpy as np\n",
    "from collections import deque\n",
    "import matplotlib.pyplot as plt\n",
    "%matplotlib inline\n",
    "\n",
    "from unityagents import UnityEnvironment\n",
    "import numpy as np\n",
    "env = UnityEnvironment(file_name=r\"C:\\Users\\Emeis\\Documents\\udacity\\Value-based-methods\\p1_navigation\\Banana_Windows_x86_64\\Banana.exe\")"
   ]
  },
  {
   "cell_type": "code",
   "execution_count": 2,
   "metadata": {},
   "outputs": [],
   "source": [
    "from dqn_agentu import Agent"
   ]
  },
  {
   "cell_type": "code",
   "execution_count": 3,
   "metadata": {},
   "outputs": [
    {
     "name": "stdout",
     "output_type": "stream",
     "text": [
      "using cuda\n",
      "Episode 100\tAverage Score: -0.20\n",
      "eps: 0.9047921471137096\n",
      "Episode 200\tAverage Score: 0.533\n",
      "eps: 0.818648829478636\n",
      "Episode 300\tAverage Score: 1.10\n",
      "eps: 0.7407070321560997\n",
      "Episode 400\tAverage Score: 1.96\n",
      "eps: 0.6701859060067403\n",
      "Episode 500\tAverage Score: 3.26\n",
      "eps: 0.6063789448611848\n",
      "Episode 600\tAverage Score: 3.57\n",
      "eps: 0.5486469074854965\n",
      "Episode 700\tAverage Score: 4.96\n",
      "eps: 0.4964114134310989\n",
      "Episode 800\tAverage Score: 5.72\n",
      "eps: 0.4491491486100748\n",
      "Episode 900\tAverage Score: 6.40\n",
      "eps: 0.4063866225452039\n",
      "Episode 1000\tAverage Score: 7.37\n",
      "eps: 0.3676954247709635\n",
      "Episode 1100\tAverage Score: 7.44\n",
      "eps: 0.33268793286240766\n",
      "Episode 1200\tAverage Score: 8.02\n",
      "eps: 0.3010134290933992\n",
      "Episode 1300\tAverage Score: 7.95\n",
      "eps: 0.27235458681947705\n",
      "Episode 1400\tAverage Score: 10.14\n",
      "eps: 0.24642429138466176\n",
      "Episode 1500\tAverage Score: 11.35\n",
      "eps: 0.22296276370290227\n",
      "Episode 1600\tAverage Score: 12.03\n",
      "eps: 0.20173495769715546\n",
      "Episode 1700\tAverage Score: 12.32\n",
      "eps: 0.18252820552270246\n",
      "Episode 1739\tAverage Score: 13.01\n",
      "Environment solved in 1639 episodes!\tAverage Score: 13.01\n",
      "\n",
      "Saving...\n",
      "Episode 1743\tAverage Score: 13.08\n",
      "Saving...\n",
      "Episode 1751\tAverage Score: 13.12\n",
      "Saving...\n",
      "Episode 1752\tAverage Score: 13.21\n",
      "Saving...\n",
      "Episode 1753\tAverage Score: 13.29\n",
      "Saving...\n",
      "Episode 1755\tAverage Score: 13.33\n",
      "Saving...\n",
      "Episode 1762\tAverage Score: 13.34\n",
      "Saving...\n",
      "Episode 1766\tAverage Score: 13.37\n",
      "Saving...\n",
      "Episode 1767\tAverage Score: 13.44\n",
      "Saving...\n",
      "Episode 1788\tAverage Score: 13.51\n",
      "Saving...\n",
      "Episode 1789\tAverage Score: 13.58\n",
      "Saving...\n",
      "Episode 1790\tAverage Score: 13.60\n",
      "Saving...\n",
      "Episode 1791\tAverage Score: 13.71\n",
      "Saving...\n",
      "Episode 1792\tAverage Score: 13.73\n",
      "Saving...\n",
      "Episode 1793\tAverage Score: 13.75\n",
      "Saving...\n",
      "Episode 1800\tAverage Score: 13.53\n",
      "eps: 0.1651500869836984\n",
      "Episode 1900\tAverage Score: 12.67\n",
      "eps: 0.14942650179799613\n",
      "Episode 2000\tAverage Score: 12.30\n",
      "eps: 0.1351999253974994\n"
     ]
    },
    {
     "data": {
      "image/png": "[encoded data removed]",
      "text/plain": [
       "<Figure size 432x288 with 1 Axes>"
      ]
     },
     "metadata": {
      "needs_background": "light"
     },
     "output_type": "display_data"
    }
   ],
   "source": [
    "brain_name = env.brain_names[0]\n",
    "brain = env.brains[brain_name]\n",
    "brain_name = env.brain_names[0]\n",
    "env_info = env.reset(train_mode=True)[brain_name]\n",
    "state = env_info.vector_observations[0]\n",
    "action_size = brain.vector_action_space_size\n",
    "\n",
    "\n",
    "# Set seeds for reproducibility\n",
    "seed = 42\n",
    "np.random.seed(seed)\n",
    "torch.manual_seed(seed)\n",
    "if torch.cuda.is_available():\n",
    "    torch.cuda.manual_seed(seed)\n",
    "\n",
    "\n",
    "agent = Agent(state_size=len(state), action_size=action_size, seed=0)#, method=\"ddqn\", priority=True)\n",
    "\n",
    "def dqn(n_episodes=2000, max_t=1000, eps_start=1.0, eps_end=0.1, eps_decay=0.999):\n",
    "    \"\"\"Deep Q-Learning.\n",
    "    \n",
    "    Params\n",
    "    ======\n",
    "        n_episodes (int): maximum number of training episodes\n",
    "        max_t (int): maximum number of timesteps per episode\n",
    "        eps_start (float): starting value of epsilon, for epsilon-greedy action selection\n",
    "        eps_end (float): minimum value of epsilon\n",
    "        eps_decay (float): multiplicative factor (per episode) for decreasing epsilon\n",
    "    \"\"\"\n",
    "    scores = []                        # list containing scores from each episode\n",
    "    scores_window = deque(maxlen=100)  # last 100 scores\n",
    "    eps = eps_start                    # initialize epsilon\n",
    "    o_mean = 0.0\n",
    "    for i_episode in range(1, n_episodes+1):\n",
    "        env_info = env.reset(train_mode=True)[brain_name]\n",
    "        state = env_info.vector_observations[0]\n",
    "\n",
    "        score = 0\n",
    "        for t in range(max_t):\n",
    "            action = agent.act(state, eps)\n",
    "            # convert action for unity\n",
    "            #actions = {brain_name: action}\n",
    "            actions = {brain_name: [action]}\n",
    "            # send the action to the environment\n",
    "            env_info = env.step(actions)[brain_name]        \n",
    "            next_state = env_info.vector_observations[0]   \n",
    "            # get the next state\n",
    "            reward = env_info.rewards[0]                   \n",
    "            # get the reward\n",
    "            done = env_info.local_done[0]\n",
    "          \n",
    "            agent.step(state, action, reward, next_state, done)\n",
    "            # see if episode has finished \n",
    "            state = next_state\n",
    "            score += reward\n",
    "            if done:\n",
    "                break \n",
    "        scores_window.append(score)       # save most recent score\n",
    "        scores.append(score)              # save most recent score\n",
    "        #if i_episode > 100:\n",
    "        eps = max(eps_end, eps_decay*eps) # decrease epsilon\n",
    "        print('\\rEpisode {}\\tAverage Score: {:.2f}'.format(i_episode, np.mean(scores_window)), end=\"\")\n",
    "        s_mean = np.mean(scores_window)\n",
    "        if i_episode % 100 == 0:\n",
    "            print('\\rEpisode {}\\tAverage Score: {:.2f}'.format(i_episode, s_mean))\n",
    "            print('\\reps:', eps)\n",
    "        \n",
    "        if s_mean >=13.0:\n",
    "            if o_mean == 0:\n",
    "                print('\\nEnvironment solved in {:d} episodes!\\tAverage Score: {:.2f}'.format(i_episode-100, s_mean))\n",
    "            if s_mean > o_mean:\n",
    "                o_mean = s_mean\n",
    "                print('\\nSaving...')\n",
    "                torch.save(agent.qnetwork_local.state_dict(), 'checkpoint.pth')\n",
    "            #break\n",
    "    return scores\n",
    "\n",
    "scores = dqn()\n",
    "\n",
    "# plot the scores\n",
    "fig = plt.figure()\n",
    "ax = fig.add_subplot(111)\n",
    "plt.plot(np.arange(len(scores)), scores)\n",
    "plt.ylabel('Score')\n",
    "plt.xlabel('Episode #')\n",
    "plt.show()"
   ]
  },
  {
   "cell_type": "code",
   "execution_count": null,
   "metadata": {},
   "outputs": [],
   "source": [
    "import os\n",
    "print(os.getcwd())\n",
    "print(os.listdir())\n"
   ]
  },
  {
   "cell_type": "code",
   "execution_count": 3,
   "metadata": {},
   "outputs": [
    {
     "name": "stdout",
     "output_type": "stream",
     "text": [
      "15.0\n",
      "20.0\n",
      "18.0\n",
      "16.0\n",
      "15.0\n",
      "19.0\n",
      "20.0\n",
      "6.0\n",
      "12.0\n",
      "5.0\n",
      "17.0\n",
      "12.0\n",
      "10.0\n",
      "18.0\n",
      "18.0\n",
      "4.0\n",
      "18.0\n",
      "12.0\n",
      "17.0\n",
      "10.0\n",
      "12.0\n",
      "9.0\n",
      "15.0\n",
      "8.0\n",
      "15.0\n",
      "14.0\n",
      "15.0\n",
      "13.0\n",
      "20.0\n",
      "10.0\n",
      "14.0\n",
      "11.0\n",
      "10.0\n",
      "10.0\n",
      "11.0\n",
      "10.0\n",
      "16.0\n",
      "9.0\n",
      "18.0\n",
      "18.0\n",
      "13.0\n",
      "11.0\n",
      "16.0\n",
      "11.0\n",
      "13.0\n",
      "14.0\n",
      "15.0\n",
      "12.0\n",
      "13.0\n",
      "10.0\n",
      "18.0\n",
      "15.0\n",
      "12.0\n",
      "14.0\n",
      "14.0\n",
      "19.0\n",
      "11.0\n",
      "13.0\n",
      "11.0\n",
      "17.0\n",
      "11.0\n",
      "20.0\n",
      "22.0\n",
      "16.0\n",
      "14.0\n",
      "16.0\n",
      "13.0\n",
      "13.0\n",
      "12.0\n",
      "16.0\n",
      "15.0\n",
      "15.0\n",
      "20.0\n",
      "15.0\n",
      "15.0\n",
      "7.0\n",
      "14.0\n",
      "13.0\n",
      "8.0\n",
      "15.0\n",
      "11.0\n",
      "17.0\n",
      "12.0\n",
      "14.0\n",
      "11.0\n",
      "10.0\n",
      "10.0\n",
      "10.0\n",
      "15.0\n",
      "13.0\n",
      "19.0\n",
      "17.0\n",
      "13.0\n",
      "16.0\n",
      "16.0\n",
      "21.0\n",
      "14.0\n",
      "15.0\n",
      "7.0\n",
      "15.0\n"
     ]
    }
   ],
   "source": [
    "# load the weights from file\n",
    "brain_name = env.brain_names[0]\n",
    "brain = env.brains[brain_name]\n",
    "brain_name = env.brain_names[0]\n",
    "env_info = env.reset(train_mode=True)[brain_name]\n",
    "state = env_info.vector_observations[0]\n",
    "action_size = brain.vector_action_space_size\n",
    "\n",
    "seed = 76\n",
    "np.random.seed(seed)\n",
    "torch.manual_seed(seed)\n",
    "if torch.cuda.is_available():\n",
    "    torch.cuda.manual_seed(seed)\n",
    "\n",
    "agent = Agent(state_size=len(state), action_size=action_size, seed=0)\n",
    "agent.qnetwork_local.load_state_dict(torch.load('checkpoint.pth'))\n",
    "\n",
    "for i in range(100):\n",
    "    score = 0\n",
    "    env_info = env.reset(train_mode=False)[brain_name]\n",
    "    state = env_info.vector_observations[0]\n",
    "    while True:\n",
    "        action = agent.act(state, 0.1)\n",
    "        #actions = action.astype(int)\n",
    "        actions = {brain_name: [action]}\n",
    "        #env.render()\n",
    "        env_info = env.step(actions)[brain_name]        \n",
    "        next_state = env_info.vector_observations[0]   \n",
    "        reward = env_info.rewards[0] \n",
    "        score += reward    \n",
    "        state = next_state               \n",
    "        done = env_info.local_done[0]\n",
    "        if done:\n",
    "            break \n",
    "    print(score)            \n",
    "#env.close()\n"
   ]
  }
 ],
 "metadata": {
  "kernelspec": {
   "display_name": "drlnd2",
   "language": "python",
   "name": "python3"
  },
  "language_info": {
   "codemirror_mode": {
    "name": "ipython",
    "version": 3
   },
   "file_extension": ".py",
   "mimetype": "text/x-python",
   "name": "python",
   "nbconvert_exporter": "python",
   "pygments_lexer": "ipython3",
   "version": "3.6.13"
  }
 },
 "nbformat": 4,
 "nbformat_minor": 4
}
